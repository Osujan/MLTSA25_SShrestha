{
  "nbformat": 4,
  "nbformat_minor": 0,
  "metadata": {
    "colab": {
      "provenance": [],
      "authorship_tag": "ABX9TyOdeAhjJXjuWgoCkDpmfldZ",
      "include_colab_link": true
    },
    "kernelspec": {
      "name": "python3",
      "display_name": "Python 3"
    },
    "language_info": {
      "name": "python"
    }
  },
  "cells": [
    {
      "cell_type": "markdown",
      "metadata": {
        "id": "view-in-github",
        "colab_type": "text"
      },
      "source": [
        "<a href=\"https://colab.research.google.com/github/mysujan/MLTSA25_SShrestha/blob/main/LAB/1_18thFeb.ipynb\" target=\"_parent\"><img src=\"https://colab.research.google.com/assets/colab-badge.svg\" alt=\"Open In Colab\"/></a>"
      ]
    },
    {
      "cell_type": "code",
      "execution_count": null,
      "metadata": {
        "id": "8kMe3so3kKK8"
      },
      "outputs": [],
      "source": [
        "import numpy as np\n",
        "from matplotlib import pylab as pl"
      ]
    },
    {
      "cell_type": "code",
      "source": [
        "np.random.seed(302)\n",
        "mydist=np.random.randn(100)\n",
        "mydist[0]"
      ],
      "metadata": {
        "colab": {
          "base_uri": "https://localhost:8080/"
        },
        "id": "_mWO5MbJkW6x",
        "outputId": "5228356b-e3e7-4fd8-c6f4-0282cb3201cf"
      },
      "execution_count": null,
      "outputs": [
        {
          "output_type": "execute_result",
          "data": {
            "text/plain": [
              "1.0906928020142175"
            ]
          },
          "metadata": {},
          "execution_count": 15
        }
      ]
    },
    {
      "cell_type": "code",
      "source": [
        "mydist = np.random.randn(100)\n",
        "mydist[0]"
      ],
      "metadata": {
        "colab": {
          "base_uri": "https://localhost:8080/"
        },
        "id": "MduV0WctlL8f",
        "outputId": "0f63783d-a0a9-4312-aefa-635deb992b9a"
      },
      "execution_count": null,
      "outputs": [
        {
          "output_type": "execute_result",
          "data": {
            "text/plain": [
              "-0.23871662586452122"
            ]
          },
          "metadata": {},
          "execution_count": 16
        }
      ]
    },
    {
      "cell_type": "code",
      "source": [
        "mydist"
      ],
      "metadata": {
        "colab": {
          "base_uri": "https://localhost:8080/"
        },
        "id": "0VAxbaLlkjds",
        "outputId": "c8b9b899-30ba-4aa5-ef71-767521b04449"
      },
      "execution_count": null,
      "outputs": [
        {
          "output_type": "execute_result",
          "data": {
            "text/plain": [
              "array([-0.23871663, -0.06800857, -0.19056061, -0.25006472,  1.44219666,\n",
              "        0.42952445, -0.85101312,  1.46920096, -0.62405527,  1.38119534,\n",
              "       -0.40047907, -0.43366484, -1.55735074, -0.03961691, -0.7411376 ,\n",
              "        0.2549131 , -0.96327964, -0.00820785, -0.87674249,  0.29652207,\n",
              "       -1.13212092,  1.38394897, -0.14671339, -2.09545319, -0.42364259,\n",
              "        0.65891925,  0.14034327, -0.52408239, -2.6083828 ,  1.68193261,\n",
              "        1.81305141,  0.96662112, -0.53131627,  1.14937364, -1.40054748,\n",
              "       -0.30335258,  0.79346164,  0.84860034, -0.13058568, -0.00975299,\n",
              "       -1.66657107, -1.0784032 , -0.7476213 , -1.29463675,  0.77683191,\n",
              "       -0.62563985,  0.01196394, -0.93516658,  0.55654261,  1.37653257,\n",
              "       -0.55167351,  1.29683023, -1.31897436,  0.34042138, -1.44417588,\n",
              "        1.18285687,  2.1196799 ,  1.00267705, -0.06652846, -0.48643712,\n",
              "       -0.16812399, -0.64458966,  0.50916523, -1.89495089, -0.69095342,\n",
              "       -0.11000441, -0.29999766,  0.59012767, -2.54648681,  0.15692733,\n",
              "        0.04269094,  0.29331209, -0.6444024 , -0.55983797, -1.63906322,\n",
              "        0.60390139, -0.03027044, -0.6602232 ,  1.06265168,  0.91282124,\n",
              "       -0.48822144, -0.19099226, -0.03492479,  0.54008682, -0.02031429,\n",
              "        0.83542227,  1.45723035,  0.14336985, -2.00535251,  0.74513161,\n",
              "       -0.99628375,  0.64247407,  0.18023765, -0.78443722,  1.22635311,\n",
              "       -0.11339188, -0.97256556, -1.25925213,  0.35973095, -0.54897278])"
            ]
          },
          "metadata": {},
          "execution_count": 13
        }
      ]
    },
    {
      "cell_type": "code",
      "source": [
        "pl.hist(mydist);\n",
        "pl.xlabel(\"something\")\n",
        "pl.ylabel(\"HI\")"
      ],
      "metadata": {
        "colab": {
          "base_uri": "https://localhost:8080/",
          "height": 466
        },
        "id": "lahdRBleklwJ",
        "outputId": "93b2a7d7-0603-4330-ddad-114cd2123865"
      },
      "execution_count": null,
      "outputs": [
        {
          "output_type": "execute_result",
          "data": {
            "text/plain": [
              "Text(0, 0.5, 'HI')"
            ]
          },
          "metadata": {},
          "execution_count": 14
        },
        {
          "output_type": "display_data",
          "data": {
            "text/plain": [
              "<Figure size 640x480 with 1 Axes>"
            ],
            "image/png": "[encoded data removed]"
          },
          "metadata": {}
        }
      ]
    },
    {
      "cell_type": "code",
      "source": [],
      "metadata": {
        "id": "0J47y3L8lBZQ"
      },
      "execution_count": null,
      "outputs": []
    }
  ]
}